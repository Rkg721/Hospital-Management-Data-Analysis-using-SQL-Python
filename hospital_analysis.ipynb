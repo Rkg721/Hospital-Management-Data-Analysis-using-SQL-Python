{
 "cells": [
  {
   "cell_type": "markdown",
   "id": "eb97af93",
   "metadata": {},
   "source": [
    "# Hospital Management Data Analysis\n",
    "\n",
    "**Author:** Rakesh Kumar Gupta  \n",
    "**Date:** 20 Aug 2025\n",
    "\n",
    "This notebook loads raw hospital datasets, performs KPI calculations, and visualizes key insights."
   ]
  },
  {
   "cell_type": "code",
   "execution_count": null,
   "id": "9433a33b",
   "metadata": {},
   "outputs": [],
   "source": [
    "\n",
    "import pandas as pd\n",
    "import numpy as np\n",
    "import matplotlib.pyplot as plt\n",
    "from pathlib import Path\n",
    "\n",
    "data_dir = Path(\"../data\")\n",
    "appointments = pd.read_csv(data_dir / \"appointments.csv\", parse_dates=[\"appointment_date\"])\n",
    "billing = pd.read_csv(data_dir / \"billing.csv\")\n",
    "doctors = pd.read_csv(data_dir / \"doctors.csv\")\n",
    "patients = pd.read_csv(data_dir / \"patients.csv\", parse_dates=[\"registration_date\"])\n",
    "treatments = pd.read_csv(data_dir / \"treatments.csv\")\n",
    "\n",
    "# Basic shapes\n",
    "print(\"Shapes:\", { \n",
    "    \"appointments\": appointments.shape, \n",
    "    \"billing\": billing.shape, \n",
    "    \"doctors\": doctors.shape, \n",
    "    \"patients\": patients.shape, \n",
    "    \"treatments\": treatments.shape\n",
    "})\n",
    "appointments.head()\n"
   ]
  },
  {
   "cell_type": "markdown",
   "id": "0bedb757",
   "metadata": {},
   "source": [
    "## KPI Calculations"
   ]
  },
  {
   "cell_type": "code",
   "execution_count": null,
   "id": "34a3afb3",
   "metadata": {},
   "outputs": [],
   "source": [
    "\n",
    "# Total revenue\n",
    "total_revenue = billing[\"amount\"].sum()\n",
    "\n",
    "# Appointment rates\n",
    "total_appts = len(appointments)\n",
    "cancellation_rate = (appointments[\"status\"].eq(\"Cancelled\").sum() / total_appts) * 100\n",
    "no_show_rate = (appointments[\"status\"].eq(\"No-show\").sum() / total_appts) * 100\n",
    "completed_rate = (appointments[\"status\"].eq(\"Completed\").sum() / total_appts) * 100\n",
    "\n",
    "# Join to compute branch revenue (completed only)\n",
    "df_join = (treatments.merge(appointments, on=\"appointment_id\", how=\"left\")\n",
    "                    .merge(billing, on=\"treatment_id\", how=\"left\")\n",
    "                    .merge(doctors[[\"doctor_id\", \"hospital_branch\", \"specialization\"]], on=\"doctor_id\", how=\"left\"))\n",
    "branch_revenue = (df_join[df_join[\"status\"]==\"Completed\"]\n",
    "                  .groupby(\"hospital_branch\")[\"amount\"]\n",
    "                  .sum()\n",
    "                  .sort_values(ascending=False))\n",
    "\n",
    "# Specialization revenue\n",
    "spec_revenue = (df_join.groupby(\"specialization\")[\"amount\"]\n",
    "                .sum().sort_values(ascending=False))\n",
    "\n",
    "# Pending vs failed vs paid\n",
    "billing_summary = billing.groupby(\"payment_status\")[\"amount\"].agg([\"count\",\"sum\"]).sort_values(\"sum\", ascending=False)\n",
    "\n",
    "# Registration to first appointment days (completed only)\n",
    "first_appt = (appointments.sort_values(\"appointment_date\")\n",
    "              .groupby(\"patient_id\").first().reset_index())\n",
    "merged = first_appt.merge(patients[[\"patient_id\",\"registration_date\",\"gender\"]], on=\"patient_id\", how=\"left\")\n",
    "merged = merged.merge(appointments[[\"patient_id\",\"status\",\"appointment_date\"]], on=[\"patient_id\",\"appointment_date\"], how=\"left\")\n",
    "merged = merged[merged[\"status\"].eq(\"Completed\")]\n",
    "merged[\"days_to_first\"] = (merged[\"appointment_date\"] - merged[\"registration_date\"]).dt.days\n",
    "avg_days_to_first = merged[\"days_to_first\"].mean()\n",
    "\n",
    "print({\n",
    "    \"Total Revenue\": float(total_revenue),\n",
    "    \"Cancellation %\": float(round(cancellation_rate,2)),\n",
    "    \"No-show %\": float(round(no_show_rate,2)),\n",
    "    \"Completed %\": float(round(completed_rate,2)),\n",
    "    \"Avg days registration->first completed appt\": float(round(avg_days_to_first,2)) if not np.isnan(avg_days_to_first) else None\n",
    "})\n",
    "\n",
    "spec_revenue.head()\n"
   ]
  },
  {
   "cell_type": "markdown",
   "id": "e2934893",
   "metadata": {},
   "source": [
    "## Visualizations"
   ]
  },
  {
   "cell_type": "code",
   "execution_count": null,
   "id": "fa1825c2",
   "metadata": {},
   "outputs": [],
   "source": [
    "\n",
    "# Revenue by specialization\n",
    "plt.figure()\n",
    "spec_revenue.plot(kind=\"bar\")\n",
    "plt.title(\"Revenue by Specialization\")\n",
    "plt.xlabel(\"Specialization\")\n",
    "plt.ylabel(\"Revenue\")\n",
    "plt.tight_layout()\n",
    "plt.show()\n"
   ]
  },
  {
   "cell_type": "code",
   "execution_count": null,
   "id": "2ae1dd63",
   "metadata": {},
   "outputs": [],
   "source": [
    "\n",
    "# Branch revenue (completed appts)\n",
    "plt.figure()\n",
    "branch_revenue.plot(kind=\"bar\")\n",
    "plt.title(\"Branch Revenue (Completed Appointments)\")\n",
    "plt.xlabel(\"Hospital Branch\")\n",
    "plt.ylabel(\"Revenue\")\n",
    "plt.tight_layout()\n",
    "plt.show()\n"
   ]
  },
  {
   "cell_type": "code",
   "execution_count": null,
   "id": "fa5928bf",
   "metadata": {},
   "outputs": [],
   "source": [
    "\n",
    "# Payment status distribution\n",
    "plt.figure()\n",
    "billing_summary[\"sum\"].plot(kind=\"bar\")\n",
    "plt.title(\"Billing Amount by Payment Status\")\n",
    "plt.xlabel(\"Payment Status\")\n",
    "plt.ylabel(\"Total Amount\")\n",
    "plt.tight_layout()\n",
    "plt.show()\n"
   ]
  },
  {
   "cell_type": "code",
   "execution_count": null,
   "id": "dde4ac2c",
   "metadata": {},
   "outputs": [],
   "source": [
    "\n",
    "# Monthly trends (appointments & revenue) - if possible from appointment_date\n",
    "# Approximate monthly revenue by joining billing to patient then to appointment month\n",
    "appt_month = appointments.copy()\n",
    "appt_month[\"month\"] = appointments[\"appointment_date\"].dt.to_period(\"M\").astype(str)\n",
    "# Attach billing via patient_id as per your SQL (note: this over-attributes if multiple bills per patient per month)\n",
    "month_join = appt_month.merge(billing[[\"patient_id\",\"amount\"]], on=\"patient_id\", how=\"left\")\n",
    "monthly = month_join.groupby(\"month\").agg(total_appointments=(\"appointment_id\",\"nunique\"),\n",
    "                                          total_revenue=(\"amount\",\"sum\")).fillna(0).reset_index()\n",
    "\n",
    "# Plot appointments\n",
    "plt.figure()\n",
    "plt.plot(monthly[\"month\"], monthly[\"total_appointments\"])\n",
    "plt.title(\"Monthly Appointments\")\n",
    "plt.xlabel(\"Month\")\n",
    "plt.ylabel(\"Appointments\")\n",
    "plt.xticks(rotation=45)\n",
    "plt.tight_layout()\n",
    "plt.show()\n",
    "\n",
    "# Plot revenue\n",
    "plt.figure()\n",
    "plt.plot(monthly[\"month\"], monthly[\"total_revenue\"])\n",
    "plt.title(\"Monthly Revenue\")\n",
    "plt.xlabel(\"Month\")\n",
    "plt.ylabel(\"Revenue\")\n",
    "plt.xticks(rotation=45)\n",
    "plt.tight_layout()\n",
    "plt.show()\n"
   ]
  },
  {
   "cell_type": "markdown",
   "id": "b0e0b33e",
   "metadata": {},
   "source": [
    "## Save KPI summary to CSV"
   ]
  },
  {
   "cell_type": "code",
   "execution_count": null,
   "id": "775937c7",
   "metadata": {},
   "outputs": [],
   "source": [
    "\n",
    "out_dir = Path(\"../report\")\n",
    "out_dir.mkdir(parents=True, exist_ok=True)\n",
    "kpis = {\n",
    "    \"total_revenue\": [float(total_revenue)],\n",
    "    \"cancellation_rate_pct\": [float(round(cancellation_rate,2))],\n",
    "    \"no_show_rate_pct\": [float(round(no_show_rate,2))],\n",
    "    \"completed_rate_pct\": [float(round(completed_rate,2))],\n",
    "    \"avg_days_to_first_completed\": [float(round(avg_days_to_first,2)) if not np.isnan(avg_days_to_first) else None]\n",
    "}\n",
    "kpi_df = pd.DataFrame(kpis)\n",
    "kpi_path = out_dir / \"kpi_summary.csv\"\n",
    "kpi_df.to_csv(kpi_path, index=False)\n",
    "kpi_path.as_posix()\n"
   ]
  },
  {
   "cell_type": "markdown",
   "id": "9a02c817",
   "metadata": {},
   "source": [
    "## Notes\n",
    "- This notebook mirrors the SQL logic used in the report.\n",
    "- Charts use default matplotlib settings (no custom styles)."
   ]
  }
 ],
 "metadata": {},
 "nbformat": 4,
 "nbformat_minor": 5
}
